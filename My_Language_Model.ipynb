{
 "cells": [
  {
   "cell_type": "code",
   "execution_count": 9,
   "metadata": {},
   "outputs": [],
   "source": [
    "# Author: Arman Kabiri\n",
    "# Date: Feb. 18, 2020\n",
    "# Email: Arman.Kabiri94@fmail.com"
   ]
  },
  {
   "cell_type": "code",
   "execution_count": 71,
   "metadata": {},
   "outputs": [],
   "source": [
    "import numpy as np\n",
    "import pandas as pd\n",
    "import matplotlib.pyplot as plt\n",
    "import torch\n",
    "import torch.nn as nn\n",
    "import gensim\n",
    "import logging\n",
    "from tqdm import tqdm\n",
    "import typing\n",
    "\n",
    "%matplotlib inline"
   ]
  },
  {
   "cell_type": "code",
   "execution_count": 37,
   "metadata": {},
   "outputs": [],
   "source": [
    "class Dictionary:\n",
    "    \n",
    "    def __init__(self):\n",
    "        self.word2id = dict()\n",
    "        self.id2word = list()\n",
    "    \n",
    "    def build_dictionary(self, input_file:str) -> (dict,list):\n",
    "    \n",
    "        logging.info(\"Building dictionaries...\")\n",
    "        self.word2id = dict()\n",
    "        self.id2word = list()\n",
    "        reader = load_corpus_inchunk(input_file)\n",
    "\n",
    "        for chunk in tqdm(reader):\n",
    "            words = chunk.split(' ')\n",
    "            for word in words:\n",
    "                if word not in word2id:\n",
    "                    id2word.append(word)\n",
    "                    word2id[word] = len(id2word) - 1\n",
    "\n",
    "        logging.info(f\"Dictionaries are built - Vocab size is {len(id2word)}\")\n",
    "    \n",
    "    def encode_text(self, text:str) -> list:\n",
    "        return [self.word2id[word] for word in text.split(' ')]\n",
    "    \n",
    "    def decode_text(self, sequence:list) -> str:\n",
    "        ' '.join([self.id2word[idx] for idx in sequence])"
   ]
  },
  {
   "cell_type": "code",
   "execution_count": 38,
   "metadata": {},
   "outputs": [],
   "source": [
    "def load_corpus_inchunk(input_file:str, chunk:int=100000000) -> str:\n",
    "   \n",
    "    with open(input_file, 'r') as f:\n",
    "        while True:\n",
    "            buf = f.read(chunk)\n",
    "            if not buf:\n",
    "                break\n",
    "\n",
    "            # make sure we end on a space (word boundary)\n",
    "            while not str.isspace(buf[-1]):\n",
    "                ch = f.read(1)\n",
    "                if not ch:\n",
    "                    break\n",
    "                buf += ch\n",
    "\n",
    "            yield buf\n",
    "        yield '' #handle the scene that the file is empty"
   ]
  },
  {
   "cell_type": "code",
   "execution_count": 39,
   "metadata": {},
   "outputs": [],
   "source": [
    "def load_pretrained_embeddings(input_file:str) -> dict:\n",
    "    \n",
    "    logging.info(\"Loading pretrained embeddings...\")\n",
    "    vectors = gensim.models.KeyedVectors.load_word2vec_format(fname=input_file, binary=True)\n",
    "    logging.info(\"Pretrained embeddings are loaded.\")\n",
    "    \n",
    "    return vectors"
   ]
  },
  {
   "cell_type": "code",
   "execution_count": 72,
   "metadata": {},
   "outputs": [],
   "source": [
    "def batchify(reader:typing.Generator, dictionary:Dictionary, batch_size:int, seq_len:int):\n",
    "    \n",
    "    reader = load_corpus_inchunk(file_path)\n",
    "    left_from_previous_chunk = []\n",
    "    \n",
    "    for chunk in reader:\n",
    "        \n",
    "        encoded_text = dictionary.encode_text(chunk)\n",
    "        encoded_text = left_from_previous_chunk + encoded_text\n",
    "        \n",
    "        # -(1*batch_size) is for y of the last sample per chunk\n",
    "        n_batches = (len(encoded_text)-batch_size) // (batch_size*seq_len)\n",
    "        left_over = (len(encoded_text)-batch_size) % (batch_size*seq_len)\n",
    "        \n",
    "        if left_over != 0:\n",
    "            left_from_previous_chunk = encoded_text[-left_over:]\n",
    "            encoded_text = encoded_text[:-left_over]\n",
    "        else:\n",
    "             left_from_previous_chunk = []\n",
    "        \n",
    "        encoded_text = np.array(encoded_text)\n",
    "        encoded_text = encoded_text.reshape((batch_size,-1))\n",
    "        \n",
    "        for i in range(0, encoded_text.shape[1]-1, seq_len):\n",
    "            \n",
    "            x = encoded_text[:, i : i+seq_len]\n",
    "            y = encoded_text[:, i+1 : i+seq_len+1]\n",
    "            yield x,y\n",
    "        "
   ]
  },
  {
   "cell_type": "code",
   "execution_count": null,
   "metadata": {},
   "outputs": [],
   "source": []
  }
 ],
 "metadata": {
  "kernelspec": {
   "display_name": "python3.7.5",
   "language": "python",
   "name": "python3.7.5"
  },
  "language_info": {
   "codemirror_mode": {
    "name": "ipython",
    "version": 3
   },
   "file_extension": ".py",
   "mimetype": "text/x-python",
   "name": "python",
   "nbconvert_exporter": "python",
   "pygments_lexer": "ipython3",
   "version": "3.7.6"
  }
 },
 "nbformat": 4,
 "nbformat_minor": 2
}
