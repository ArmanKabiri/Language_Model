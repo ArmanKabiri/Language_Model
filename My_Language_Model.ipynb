{
 "cells": [
  {
   "cell_type": "code",
   "execution_count": 2,
   "metadata": {},
   "outputs": [],
   "source": [
    "# Author: Arman Kabiri\n",
    "# Date: Feb. 18, 2020\n",
    "# Email: Arman.Kabiri94@gmail.com"
   ]
  },
  {
   "cell_type": "code",
   "execution_count": 5,
   "metadata": {},
   "outputs": [],
   "source": [
    "import numpy as np\n",
    "import matplotlib.pyplot as plt\n",
    "import torch\n",
    "import torch.nn as nn\n",
    "import gensim\n",
    "import logging\n",
    "from tqdm import tqdm\n",
    "import typing\n",
    "import argparse\n",
    "\n",
    "%matplotlib inline"
   ]
  },
  {
   "cell_type": "code",
   "execution_count": 6,
   "metadata": {},
   "outputs": [
    {
     "data": {
      "text/plain": [
       "_StoreAction(option_strings=['--data'], dest='data', nargs=None, const=None, default='./data/wikitext-2', type=<class 'str'>, choices=None, help='location of the data corpus', metavar=None)"
      ]
     },
     "execution_count": 6,
     "metadata": {},
     "output_type": "execute_result"
    }
   ],
   "source": [
    "parser = argparse.ArgumentParser(description='PyTorch Wikitext-2 RNN/LSTM Language Model')\n",
    "\n",
    "parser.add_argument('--data', type=str, default='./data/wikitext-2',\n",
    "                    help='location of the data corpus')\n",
    "\n",
    "# args = parser.parse_args()"
   ]
  },
  {
   "cell_type": "code",
   "execution_count": 7,
   "metadata": {},
   "outputs": [],
   "source": [
    "class Dictionary:\n",
    "    \n",
    "    def __init__(self):\n",
    "        self.word2id = dict()\n",
    "        self.id2word = list()\n",
    "    \n",
    "    def build_dictionary(self, input_file:str) -> (dict,list):\n",
    "    \n",
    "        logging.info(\"Building dictionaries...\")\n",
    "        self.word2id = dict()\n",
    "        self.id2word = list()\n",
    "        reader = load_corpus_inchunk(input_file)\n",
    "\n",
    "        for chunk in tqdm(reader):\n",
    "            words = chunk.split(' ')\n",
    "            for word in words:\n",
    "                if word not in word2id:\n",
    "                    id2word.append(word)\n",
    "                    word2id[word] = len(id2word) - 1\n",
    "        \n",
    "        self.vocab_size = len(id2word)\n",
    "        logging.info(f\"Dictionaries are built - Vocab size is {len(id2word)}\")\n",
    "    \n",
    "    def encode_text(self, text:str) -> list:\n",
    "        return [self.word2id[word] for word in text.split(' ')]\n",
    "    \n",
    "    def decode_text(self, sequence:list) -> str:\n",
    "        ' '.join([self.id2word[idx] for idx in sequence])\n",
    "        \n",
    "    def get_dic_size() -> int:\n",
    "        return len(id2word)"
   ]
  },
  {
   "cell_type": "code",
   "execution_count": 8,
   "metadata": {},
   "outputs": [],
   "source": [
    "def load_corpus_inchunk(input_file:str, chunk:int=100000000) -> str:\n",
    "   \n",
    "    with open(input_file, 'r') as f:\n",
    "        while True:\n",
    "            buf = f.read(chunk)\n",
    "            if not buf:\n",
    "                break\n",
    "\n",
    "            # make sure we end on a space (word boundary)\n",
    "            while not str.isspace(buf[-1]):\n",
    "                ch = f.read(1)\n",
    "                if not ch:\n",
    "                    break\n",
    "                buf += ch\n",
    "\n",
    "            yield buf\n",
    "        yield '' #handle the scene that the file is empty"
   ]
  },
  {
   "cell_type": "code",
   "execution_count": 9,
   "metadata": {},
   "outputs": [],
   "source": [
    "class Embeddings():\n",
    "    \n",
    "    def __init__(self):   \n",
    "        \n",
    "        self.dim = 0\n",
    "        self.embeddings_size = 0\n",
    "        self.emb_matrix = None\n",
    "    \n",
    "    def __load_pretrained_embeddings(self, input_file:str) -> dict:\n",
    "\n",
    "        logging.info(\"Loading pretrained embeddings...\")\n",
    "        vectors = gensim.models.KeyedVectors.load_word2vec_format(fname=input_file, binary=True)\n",
    "        logging.info(\"Pretrained embeddings are loaded.\")\n",
    "        self.emb_dict = vectors\n",
    "        self.dim = len(vectors.values()[0])\n",
    "        return vectors\n",
    "    \n",
    "\n",
    "    def get_embeddings_matrix(self, input_file:str, dictionary: Dictionary, emb_dim) -> np.array:\n",
    "        \n",
    "        pretrained_emb = __load_pretrained_embeddings(self, input_file)\n",
    "        assert emb_dim == self.dim\n",
    "        self.embeddings_size = dictionary.get_dic_size()\n",
    "        weights_matrix = np.zeros((self.embeddings_size, self.dim))\n",
    "\n",
    "        for i, word in enumerate(dictionary.id2word):\n",
    "            \n",
    "            try: \n",
    "                weights_matrix[i] = pretrained_emb[word]\n",
    "            except KeyError:\n",
    "                weights_matrix[i] = np.random.normal(scale=0.6, size=(self.dim, ))\n",
    "        \n",
    "        self.emb_matrix = weights_matrix\n",
    "        \n",
    "        return weights_matrix"
   ]
  },
  {
   "cell_type": "code",
   "execution_count": 10,
   "metadata": {},
   "outputs": [],
   "source": [
    "def batchify(reader:typing.Generator, dictionary:Dictionary, batch_size:int, seq_len:int):\n",
    "    \n",
    "    reader = load_corpus_inchunk(file_path)\n",
    "    left_from_previous_chunk = []\n",
    "    \n",
    "    for chunk in reader:\n",
    "        \n",
    "        encoded_text = dictionary.encode_text(chunk)\n",
    "        encoded_text = left_from_previous_chunk + encoded_text\n",
    "        \n",
    "        # -(1*batch_size) is for y of the last sample per chunk\n",
    "        n_batches = (len(encoded_text)-batch_size) // (batch_size*seq_len)\n",
    "        left_over = (len(encoded_text)-batch_size) % (batch_size*seq_len)\n",
    "        \n",
    "        if left_over != 0:\n",
    "            left_from_previous_chunk = encoded_text[-left_over:]\n",
    "            encoded_text = encoded_text[:-left_over]\n",
    "        else:\n",
    "             left_from_previous_chunk = []\n",
    "        \n",
    "        encoded_text = np.array(encoded_text)\n",
    "        encoded_text = encoded_text.reshape((batch_size,-1))\n",
    "        \n",
    "        for i in range(0, encoded_text.shape[1]-1, seq_len):\n",
    "            \n",
    "            x = encoded_text[:, i : i+seq_len]\n",
    "            y = encoded_text[:, i+1 : i+seq_len+1]\n",
    "            yield x,y\n",
    "        "
   ]
  },
  {
   "cell_type": "code",
   "execution_count": null,
   "metadata": {},
   "outputs": [],
   "source": []
  },
  {
   "cell_type": "code",
   "execution_count": null,
   "metadata": {},
   "outputs": [],
   "source": []
  }
 ],
 "metadata": {
  "kernelspec": {
   "display_name": "python3.7.5",
   "language": "python",
   "name": "python3.7.5"
  },
  "language_info": {
   "codemirror_mode": {
    "name": "ipython",
    "version": 3
   },
   "file_extension": ".py",
   "mimetype": "text/x-python",
   "name": "python",
   "nbconvert_exporter": "python",
   "pygments_lexer": "ipython3",
   "version": "3.7.6"
  }
 },
 "nbformat": 4,
 "nbformat_minor": 2
}
