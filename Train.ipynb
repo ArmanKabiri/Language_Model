{
 "cells": [
  {
   "cell_type": "code",
   "execution_count": 1,
   "metadata": {},
   "outputs": [],
   "source": [
    "# Author: Arman Kabiri\n",
    "# Date: Feb. 18, 2020\n",
    "# Email: Arman.Kabiri94@gmail.com"
   ]
  },
  {
   "cell_type": "code",
   "execution_count": 21,
   "metadata": {},
   "outputs": [],
   "source": [
    "import numpy as np\n",
    "import matplotlib.pyplot as plt\n",
    "import torch\n",
    "import torch.nn as nn\n",
    "import gensim\n",
    "import logging\n",
    "from tqdm import tqdm\n",
    "import typing\n",
    "import argparse\n",
    "from Lang_Model import LanguageModel\n",
    "from CorpusReader import CorpusReader\n",
    "from DIctionary import Dictionary\n",
    "\n",
    "%matplotlib inline"
   ]
  },
  {
   "cell_type": "code",
   "execution_count": 22,
   "metadata": {},
   "outputs": [],
   "source": [
    "parser = argparse.ArgumentParser(description='LSTM Language Model')\n",
    "\n",
    "parser.add_argument('--corpus_file', type=str, help='location of the data corpus')\n",
    "parser.add_argument('--embeddings_file', type=str)\n",
    "parser.add_argument('--n_layers', type=int)\n",
    "parser.add_argument('--hidden_size', type=int)\n",
    "parser.add_argument('--dropout_probablity', type=float)\n",
    "parser.add_argument('--bidirectional_model',type=bool)\n",
    "parser.add_argument('--tie_weights', type=bool)\n",
    "parser.add_argument('--trainable_embeddings', type=bool)\n",
    "parser.add_argument('--gpu', type=bool)\n",
    "\n",
    "args = parser.parse_args(args=[])"
   ]
  },
  {
   "cell_type": "code",
   "execution_count": 7,
   "metadata": {},
   "outputs": [],
   "source": [
    "def batchify(reader:typing.Generator, dictionary:Dictionary, batch_size:int, seq_len:int):\n",
    "    \n",
    "    reader = load_corpus_inchunk(file_path)\n",
    "    left_from_previous_chunk = []\n",
    "    \n",
    "    for chunk in reader:\n",
    "        \n",
    "        encoded_text = dictionary.encode_text(chunk)\n",
    "        encoded_text = left_from_previous_chunk + encoded_text\n",
    "        \n",
    "        # -(1*batch_size) is for y of the last sample per chunk\n",
    "        n_batches = (len(encoded_text)-batch_size) // (batch_size*seq_len)\n",
    "        left_over = (len(encoded_text)-batch_size) % (batch_size*seq_len)\n",
    "        \n",
    "        if left_over != 0:\n",
    "            left_from_previous_chunk = encoded_text[-left_over:]\n",
    "            encoded_text = encoded_text[:-left_over]\n",
    "        else:\n",
    "             left_from_previous_chunk = []\n",
    "        \n",
    "        encoded_text = np.array(encoded_text)\n",
    "        encoded_text = encoded_text.reshape((batch_size,-1))\n",
    "        \n",
    "        for i in range(0, encoded_text.shape[1]-1, seq_len):\n",
    "            \n",
    "            x = encoded_text[:, i : i+seq_len]\n",
    "            y = encoded_text[:, i+1 : i+seq_len+1]\n",
    "            yield x,y\n",
    "        "
   ]
  },
  {
   "cell_type": "markdown",
   "metadata": {},
   "source": [
    "### Configuraions"
   ]
  },
  {
   "cell_type": "code",
   "execution_count": 23,
   "metadata": {},
   "outputs": [],
   "source": [
    "corpus_reader = CorpusReader(args.corpus_file)"
   ]
  },
  {
   "cell_type": "code",
   "execution_count": null,
   "metadata": {},
   "outputs": [],
   "source": [
    "dictionary = Dictionary(corpus_reader)"
   ]
  },
  {
   "cell_type": "code",
   "execution_count": null,
   "metadata": {},
   "outputs": [],
   "source": [
    "model = LanguageModel(n_layers=args.n_layers, hidden_size=args.hidden_size, n_vocab=n_vocab,\n",
    "                      input_size=input_size, dropout=args.dropout_probablity,\n",
    "                      bidirectional=args.bidirectional_model, pret_emb_matrix=embeddings_matrix,\n",
    "                      trainable_emb=args.trainable_embeddings, tie_weights=args.tie_weights, use_gpu=args.gpu)"
   ]
  },
  {
   "cell_type": "code",
   "execution_count": null,
   "metadata": {},
   "outputs": [],
   "source": []
  }
 ],
 "metadata": {
  "kernelspec": {
   "display_name": "python3.7.5",
   "language": "python",
   "name": "python3.7.5"
  },
  "language_info": {
   "codemirror_mode": {
    "name": "ipython",
    "version": 3
   },
   "file_extension": ".py",
   "mimetype": "text/x-python",
   "name": "python",
   "nbconvert_exporter": "python",
   "pygments_lexer": "ipython3",
   "version": "3.7.6"
  }
 },
 "nbformat": 4,
 "nbformat_minor": 2
}
