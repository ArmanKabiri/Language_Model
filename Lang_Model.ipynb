{
 "cells": [
  {
   "cell_type": "code",
   "execution_count": 1,
   "metadata": {},
   "outputs": [],
   "source": [
    "# Author: Arman Kabiri\n",
    "# Date: Feb. 27, 2020\n",
    "# Email: Arman.Kabiri94@fmail.com"
   ]
  },
  {
   "cell_type": "code",
   "execution_count": 3,
   "metadata": {},
   "outputs": [],
   "source": [
    "import numpy as np\n",
    "import matplotlib.pyplot as plt\n",
    "import torch\n",
    "import torch.nn as nn\n",
    "import gensim\n",
    "import logging\n",
    "from tqdm import tqdm\n",
    "import typing\n",
    "\n",
    "%matplotlib inline"
   ]
  },
  {
   "cell_type": "code",
   "execution_count": 5,
   "metadata": {},
   "outputs": [],
   "source": [
    "class LanguageModel(nn.Module):\n",
    "    \n",
    "    def __init__(self, seq_length:int, n_layers:int, hidden_size:int, n_vocab:int, input_size:int, dropout:float,\n",
    "                 bidirectional:bool, tie_weights:bool=False, pret_emb_matrix:np.array=None, trainable_emb:bool=True):\n",
    "        \n",
    "        super.__init__(self)\n",
    "        \n",
    "        #Initializing Embedding Layer\n",
    "        if pret_emb_matrix is not None:\n",
    "            assert n_vocab == pret_emb_matrix.shape[0] and input_size == pret_emb_matrix.shape[1]\n",
    "        \n",
    "        self.embedding = nn.Embedding(n_vocab, input_size)\n",
    "       \n",
    "        self.input_size = input_size\n",
    "        self.hidden_size = hidden_size\n",
    "        \n",
    "        #initializing training layer\n",
    "        self.dropout = nn.Dropout(p=dropout)\n",
    "        \n",
    "        self.rnn = nn.LSTM(input_size=self.input_size, hidden_size=self.hidden_size, num_layers=n_layers,\n",
    "                          dropout=dropout, bidirectional=bidirectional)\n",
    "        \n",
    "        self.decoder = nn.Linear(hidden_size, n_vocab)\n",
    "        \n",
    "        # Network Initialization\n",
    "        init_weights(self, pret_emb_matrix, trainable_emb, tie_weights)\n",
    "        \n",
    "        \n",
    "    def init_weights(self, pret_emb_matrix, trainable_emb, tie_weights):\n",
    "\n",
    "        if tie_weights and ~trainable_emb:\n",
    "            raise ValueError('tie_weights and trainable_emb flags should be used in a compatible way.')\n",
    "            \n",
    "        if pret_emb_matrix==None and trainable_emb==False:\n",
    "            raise ValueError('When pre-trained embeddings are not given, weights should be trainable.')\n",
    "        \n",
    "        initrange = 0.1\n",
    "        \n",
    "        if pret_emb_matrix != None:\n",
    "            self.embedding.load_state_dict({'weight': pret_emb_matrix})\n",
    "            self.embedding.weight.requires_grad = trainable_emb            \n",
    "        else:\n",
    "            self.embedding.weight.data.uniform_(-initrange, initrange)\n",
    "                    \n",
    "        self.decoder.bias.data.zero_()                \n",
    "        if tie_weights:\n",
    "            if self.hidden_size != self.input_size:\n",
    "                raise ValueError('When using the tied flag, hidden_size must be equal to input_size')\n",
    "            self.decoder.weight = self.embedding.weight\n",
    "        \n",
    "        else:\n",
    "            self.decoder.weight.data.uniform_(-initrange, initrange)"
   ]
  },
  {
   "cell_type": "code",
   "execution_count": null,
   "metadata": {},
   "outputs": [],
   "source": []
  }
 ],
 "metadata": {
  "kernelspec": {
   "display_name": "python3.7.5",
   "language": "python",
   "name": "python3.7.5"
  },
  "language_info": {
   "codemirror_mode": {
    "name": "ipython",
    "version": 3
   },
   "file_extension": ".py",
   "mimetype": "text/x-python",
   "name": "python",
   "nbconvert_exporter": "python",
   "pygments_lexer": "ipython3",
   "version": "3.7.6"
  }
 },
 "nbformat": 4,
 "nbformat_minor": 2
}
